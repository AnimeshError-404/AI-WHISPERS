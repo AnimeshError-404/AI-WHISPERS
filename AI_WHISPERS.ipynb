{
  "nbformat": 4,
  "nbformat_minor": 0,
  "metadata": {
    "colab": {
      "provenance": []
    },
    "kernelspec": {
      "name": "python3",
      "display_name": "Python 3"
    },
    "language_info": {
      "name": "python"
    }
  },
  "cells": [
    {
      "cell_type": "code",
      "source": [
        "import random\n",
        "import time\n",
        "\n",
        "# Function to generate a random math puzzle\n",
        "def generate_puzzle():\n",
        "    puzzle_types = [\"arithmetic\", \"algebra\", \"sequence\"]\n",
        "    puzzle_type = random.choice(puzzle_types)\n",
        "\n",
        "    if puzzle_type == \"arithmetic\":\n",
        "        a = random.randint(1, 20)\n",
        "        b = random.randint(1, 20)\n",
        "        operation = random.choice([\"+\", \"-\", \"*\", \"/\"])\n",
        "        if operation == \"/\":\n",
        "            # Ensure integer division\n",
        "            b = random.randint(1, 10)\n",
        "            a = a * b\n",
        "        question = f\"Solve: {a} {operation} {b}\"\n",
        "        answer = eval(f\"{a} {operation} {b}\")\n",
        "\n",
        "    elif puzzle_type == \"algebra\":\n",
        "        x = random.randint(1, 20)\n",
        "        b = random.randint(1, 20)\n",
        "        c = random.randint(1, 20)\n",
        "        question = f\"Solve for x: {x} + {b} = {c}\"\n",
        "        answer = c - b\n",
        "\n",
        "    elif puzzle_type == \"sequence\":\n",
        "        start = random.randint(1, 10)\n",
        "        diff = random.randint(1, 5)\n",
        "        length = 5\n",
        "        sequence = [start + diff * i for i in range(length)]\n",
        "        missing_index = random.randint(0, length - 1)\n",
        "        answer = sequence[missing_index]\n",
        "        sequence[missing_index] = \"_\"\n",
        "        question = f\"Fill in the blank: {sequence}\"\n",
        "\n",
        "    return question, answer, puzzle_type\n",
        "\n",
        "# Function to provide hints\n",
        "def provide_hint(puzzle_type, answer, user_attempts):\n",
        "    if puzzle_type == \"arithmetic\":\n",
        "        if user_attempts == 1:\n",
        "            return f\"Hint: The answer is {'greater' if answer > 10 else 'less'} than 10.\"\n",
        "        elif user_attempts == 2:\n",
        "            return f\"Hint: The answer is approximately {round(answer / 2)} times 2.\"\n",
        "    elif puzzle_type == \"algebra\":\n",
        "        return \"Hint: Rearrange the equation to isolate x.\"\n",
        "    elif puzzle_type == \"sequence\":\n",
        "        return \"Hint: Look for a consistent difference between the numbers.\"\n",
        "    return \"No further hints available.\"\n",
        "\n",
        "# Game loop\n",
        "def play_game():\n",
        "    print(\"Welcome to the AI Math Puzzle Game!\")\n",
        "    score = 0\n",
        "    total_questions = 5\n",
        "\n",
        "    for i in range(total_questions):\n",
        "        question, answer, puzzle_type = generate_puzzle()\n",
        "        print(f\"\\nPuzzle {i + 1}: {question}\")\n",
        "        user_attempts = 0\n",
        "\n",
        "        while True:\n",
        "            try:\n",
        "                user_answer = float(input(\"Your answer: \"))\n",
        "                user_attempts += 1\n",
        "\n",
        "                if abs(user_answer - answer) < 1e-6:  # Handle floating-point comparison\n",
        "                    print(f\"Correct! It took you {user_attempts} attempt(s).\")\n",
        "                    score += 1\n",
        "                    break\n",
        "                else:\n",
        "                    print(\"Wrong answer!\")\n",
        "                    hint = provide_hint(puzzle_type, answer, user_attempts)\n",
        "                    print(hint)\n",
        "            except ValueError:\n",
        "                print(\"Invalid input! Please enter a number.\")\n",
        "\n",
        "    print(f\"\\nGame Over! Your final score: {score}/{total_questions}\")\n",
        "\n",
        "# Run the game\n",
        "play_game()\n"
      ],
      "metadata": {
        "colab": {
          "base_uri": "https://localhost:8080/"
        },
        "id": "qhaJRJ71OCCi",
        "outputId": "42463e0a-5ec2-4482-c348-7e3b60edc927"
      },
      "execution_count": null,
      "outputs": [
        {
          "output_type": "stream",
          "name": "stdout",
          "text": [
            "Welcome to the AI Math Puzzle Game!\n",
            "\n",
            "Puzzle 1: Solve for x: 16 + 3 = 1\n",
            "Your answer: 3\n",
            "Wrong answer!\n",
            "Hint: Rearrange the equation to isolate x.\n"
          ]
        }
      ]
    },
    {
      "cell_type": "code",
      "source": [],
      "metadata": {
        "id": "aqiQhp2KOA7K"
      },
      "execution_count": null,
      "outputs": []
    }
  ]
}